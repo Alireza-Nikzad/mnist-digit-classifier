{
  "cells": [
    {
      "cell_type": "code",
      "execution_count": 16,
      "metadata": {
        "id": "tHm7VErTYG7t"
      },
      "outputs": [],
      "source": [
        "import tensorflow as tf\n",
        "from tensorflow.keras import layers, models\n",
        "import matplotlib.pyplot as plt\n",
        "import numpy as np\n",
        "import matplotlib.pyplot as plt"
      ]
    },
    {
      "cell_type": "code",
      "execution_count": null,
      "metadata": {
        "id": "pxSkTU60ZZUV"
      },
      "outputs": [],
      "source": [
        "(train_images, train_labels), (test_images, test_labels) = tf.keras.datasets.mnist.load_data()\n",
        "\n",
        "\n",
        "print(\"Training data shape\", train_images.shape)\n",
        "print(\"Test data shape\", test_images.shape)"
      ]
    },
    {
      "cell_type": "code",
      "execution_count": null,
      "metadata": {
        "id": "WEHsewsmalDF"
      },
      "outputs": [],
      "source": [
        "plt.figure(figsize=(8,8))\n",
        "\n",
        "for i in range(9):\n",
        "  plt.subplot(3,3, i + 1)\n",
        "  plt.imshow(train_images[i], cmap='gray')\n",
        "  plt.title(f\"label: {train_labels[i]}\")\n",
        "  plt.axis('off')\n",
        "\n",
        "\n",
        "plt.show()"
      ]
    },
    {
      "cell_type": "code",
      "execution_count": null,
      "metadata": {
        "id": "julrTW74bbmt"
      },
      "outputs": [],
      "source": [
        "train_images = train_images / 255.0\n",
        "test_images = test_images / 255.0\n",
        "\n",
        "train_images = train_images.reshape((-1, 28, 28, 1))\n",
        "test_images = test_images.reshape((-1, 28, 28, 1))\n",
        "\n",
        "print(\"After reshaping:\")\n",
        "print(\"Train images shape:\", train_images.shape)\n",
        "print(\"Test images shape: \", test_images.shape)"
      ]
    },
    {
      "cell_type": "code",
      "execution_count": 20,
      "metadata": {
        "id": "oKHUvEkqkIOm"
      },
      "outputs": [],
      "source": [
        "model = models.Sequential([\n",
        "\n",
        "    layers.Conv2D(32, (3, 3), activation='relu', input_shape=(28, 28, 1)),\n",
        "    layers.MaxPooling2D((2,2)),\n",
        "\n",
        "    layers.Conv2D(64, (3,3), activation='relu'),\n",
        "    layers.MaxPooling2D((2,2)),\n",
        "\n",
        "    layers.Flatten(),\n",
        "\n",
        "    layers.Dense(64, activation ='relu'),\n",
        "\n",
        "    layers.Dense(10, activation='softmax')\n",
        "\n",
        "])"
      ]
    },
    {
      "cell_type": "code",
      "execution_count": 21,
      "metadata": {
        "id": "Pizbhe1vx4pq"
      },
      "outputs": [],
      "source": [
        "model.compile(\n",
        "    optimizer='adam',\n",
        "    loss = 'sparse_categorical_crossentropy',\n",
        "    metrics = ['accuracy']\n",
        ")"
      ]
    },
    {
      "cell_type": "code",
      "execution_count": null,
      "metadata": {
        "id": "lwxZ8elxyTBZ"
      },
      "outputs": [],
      "source": [
        "history = model.fit(\n",
        "    train_images, train_labels,\n",
        "    epochs = 5,\n",
        "    validation_data = (test_images, test_labels)\n",
        ")"
      ]
    },
    {
      "cell_type": "code",
      "execution_count": null,
      "metadata": {
        "id": "4MedQ4G01F0q"
      },
      "outputs": [],
      "source": [
        "import matplotlib.pyplot as plt\n",
        "import numpy as np\n",
        "\n",
        "\n",
        "num_images = 10\n",
        "start_index =\n",
        "\n",
        "plt.figure(figsize=(15, 6))\n",
        "\n",
        "for i in range(num_images):\n",
        "    index = start_index + i\n",
        "    image = test_images[index]\n",
        "    true_label = test_labels[index]\n",
        "\n",
        "\n",
        "    image_input = np.expand_dims(image, axis=0)\n",
        "    predicted_probs = model.predict(image_input, verbose=0)\n",
        "    predicted_label = np.argmax(predicted_probs)\n",
        "\n",
        "\n",
        "    plt.subplot(2, 5, i + 1)\n",
        "    plt.imshow(image.reshape(28, 28), cmap='gray')\n",
        "    plt.title(f\"True: {true_label} | Pred: {predicted_label}\")\n",
        "    plt.axis('off')\n",
        "\n",
        "plt.suptitle(\"Model Predictions on Test Images\", fontsize=16)\n",
        "plt.tight_layout()\n",
        "plt.subplots_adjust(top=0.85)\n",
        "plt.show()\n"
      ]
    }
  ],
  "metadata": {
    "colab": {
      "provenance": [],
      "toc_visible": true
    },
    "kernelspec": {
      "display_name": "Python 3",
      "name": "python3"
    },
    "language_info": {
      "name": "python"
    }
  },
  "nbformat": 4,
  "nbformat_minor": 0
}